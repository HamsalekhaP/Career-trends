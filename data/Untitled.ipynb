{
 "cells": [
  {
   "cell_type": "code",
   "execution_count": 1,
   "metadata": {},
   "outputs": [],
   "source": [
    "import pandas as pd\n",
    "import numpy as np"
   ]
  },
  {
   "cell_type": "code",
   "execution_count": 2,
   "metadata": {},
   "outputs": [],
   "source": [
    "region = pd.read_csv(\"region.csv\")"
   ]
  },
  {
   "cell_type": "code",
   "execution_count": 3,
   "metadata": {},
   "outputs": [],
   "source": [
    "import math"
   ]
  },
  {
   "cell_type": "code",
   "execution_count": 4,
   "metadata": {},
   "outputs": [
    {
     "data": {
      "text/plain": [
       "nan"
      ]
     },
     "execution_count": 4,
     "metadata": {},
     "output_type": "execute_result"
    }
   ],
   "source": [
    "math.nan"
   ]
  },
  {
   "cell_type": "code",
   "execution_count": 12,
   "metadata": {},
   "outputs": [
    {
     "data": {
      "text/plain": [
       "Index(['Index', 'School Name', 'Region', 'Starting Median Salary',\n",
       "       'Mid-Career Median Salary', 'Mid-Career 10th Percentile Salary',\n",
       "       'Mid-Career 25th Percentile Salary',\n",
       "       'Mid-Career 75th Percentile Salary',\n",
       "       'Mid-Career 90th Percentile Salary'],\n",
       "      dtype='object')"
      ]
     },
     "execution_count": 12,
     "metadata": {},
     "output_type": "execute_result"
    }
   ],
   "source": [
    "region.columns"
   ]
  },
  {
   "cell_type": "code",
   "execution_count": 15,
   "metadata": {},
   "outputs": [],
   "source": [
    "def mapper(x):\n",
    "    if isinstance(x, str):\n",
    "        if x == \"NaN\":\n",
    "            return math.nan\n",
    "        return float(x[1:].replace(\",\", \"\"))\n",
    "    return x"
   ]
  },
  {
   "cell_type": "code",
   "execution_count": 16,
   "metadata": {
    "scrolled": true
   },
   "outputs": [],
   "source": [
    "for col in major.columns:\n",
    "    if \"Salary\" in col:\n",
    "        major[col] = major[col].map(mapper)"
   ]
  },
  {
   "cell_type": "code",
   "execution_count": null,
   "metadata": {},
   "outputs": [],
   "source": []
  },
  {
   "cell_type": "code",
   "execution_count": 9,
   "metadata": {},
   "outputs": [],
   "source": [
    "region_mean_agg = region.groupby(\"Region\").agg({\n",
    "    'Starting Median Salary': ['mean'],\n",
    "    'Mid-Career Median Salary': ['mean'],\n",
    "    \n",
    "})"
   ]
  },
  {
   "cell_type": "code",
   "execution_count": 11,
   "metadata": {},
   "outputs": [],
   "source": [
    "region_mean_agg.to_csv(\"region-mean.csv\", index=True)"
   ]
  },
  {
   "cell_type": "code",
   "execution_count": 13,
   "metadata": {},
   "outputs": [
    {
     "data": {
      "text/html": [
       "<div>\n",
       "<style scoped>\n",
       "    .dataframe tbody tr th:only-of-type {\n",
       "        vertical-align: middle;\n",
       "    }\n",
       "\n",
       "    .dataframe tbody tr th {\n",
       "        vertical-align: top;\n",
       "    }\n",
       "\n",
       "    .dataframe thead th {\n",
       "        text-align: right;\n",
       "    }\n",
       "</style>\n",
       "<table border=\"1\" class=\"dataframe\">\n",
       "  <thead>\n",
       "    <tr style=\"text-align: right;\">\n",
       "      <th></th>\n",
       "      <th>Index</th>\n",
       "      <th>School Name</th>\n",
       "      <th>Region</th>\n",
       "      <th>Starting Median Salary</th>\n",
       "      <th>Mid-Career Median Salary</th>\n",
       "      <th>Mid-Career 10th Percentile Salary</th>\n",
       "      <th>Mid-Career 25th Percentile Salary</th>\n",
       "      <th>Mid-Career 75th Percentile Salary</th>\n",
       "      <th>Mid-Career 90th Percentile Salary</th>\n",
       "    </tr>\n",
       "  </thead>\n",
       "  <tbody>\n",
       "    <tr>\n",
       "      <th>0</th>\n",
       "      <td>0</td>\n",
       "      <td>Stanford University</td>\n",
       "      <td>California</td>\n",
       "      <td>70400.0</td>\n",
       "      <td>129000.0</td>\n",
       "      <td>68400.0</td>\n",
       "      <td>93100.0</td>\n",
       "      <td>184000.0</td>\n",
       "      <td>257000.0</td>\n",
       "    </tr>\n",
       "    <tr>\n",
       "      <th>1</th>\n",
       "      <td>1</td>\n",
       "      <td>California Institute of Technology (CIT)</td>\n",
       "      <td>California</td>\n",
       "      <td>75500.0</td>\n",
       "      <td>123000.0</td>\n",
       "      <td>NaN</td>\n",
       "      <td>104000.0</td>\n",
       "      <td>161000.0</td>\n",
       "      <td>NaN</td>\n",
       "    </tr>\n",
       "    <tr>\n",
       "      <th>2</th>\n",
       "      <td>2</td>\n",
       "      <td>Harvey Mudd College</td>\n",
       "      <td>California</td>\n",
       "      <td>71800.0</td>\n",
       "      <td>122000.0</td>\n",
       "      <td>NaN</td>\n",
       "      <td>96000.0</td>\n",
       "      <td>180000.0</td>\n",
       "      <td>NaN</td>\n",
       "    </tr>\n",
       "    <tr>\n",
       "      <th>3</th>\n",
       "      <td>3</td>\n",
       "      <td>University of California, Berkeley</td>\n",
       "      <td>California</td>\n",
       "      <td>59900.0</td>\n",
       "      <td>112000.0</td>\n",
       "      <td>59500.0</td>\n",
       "      <td>81000.0</td>\n",
       "      <td>149000.0</td>\n",
       "      <td>201000.0</td>\n",
       "    </tr>\n",
       "    <tr>\n",
       "      <th>4</th>\n",
       "      <td>4</td>\n",
       "      <td>Occidental College</td>\n",
       "      <td>California</td>\n",
       "      <td>51900.0</td>\n",
       "      <td>105000.0</td>\n",
       "      <td>NaN</td>\n",
       "      <td>54800.0</td>\n",
       "      <td>157000.0</td>\n",
       "      <td>NaN</td>\n",
       "    </tr>\n",
       "    <tr>\n",
       "      <th>...</th>\n",
       "      <td>...</td>\n",
       "      <td>...</td>\n",
       "      <td>...</td>\n",
       "      <td>...</td>\n",
       "      <td>...</td>\n",
       "      <td>...</td>\n",
       "      <td>...</td>\n",
       "      <td>...</td>\n",
       "      <td>...</td>\n",
       "    </tr>\n",
       "    <tr>\n",
       "      <th>315</th>\n",
       "      <td>315</td>\n",
       "      <td>State University of New York (SUNY) at Potsdam</td>\n",
       "      <td>Northeastern</td>\n",
       "      <td>38000.0</td>\n",
       "      <td>70300.0</td>\n",
       "      <td>35100.0</td>\n",
       "      <td>51200.0</td>\n",
       "      <td>100000.0</td>\n",
       "      <td>179000.0</td>\n",
       "    </tr>\n",
       "    <tr>\n",
       "      <th>316</th>\n",
       "      <td>316</td>\n",
       "      <td>Niagara University</td>\n",
       "      <td>Northeastern</td>\n",
       "      <td>36900.0</td>\n",
       "      <td>69700.0</td>\n",
       "      <td>44000.0</td>\n",
       "      <td>57000.0</td>\n",
       "      <td>92000.0</td>\n",
       "      <td>128000.0</td>\n",
       "    </tr>\n",
       "    <tr>\n",
       "      <th>317</th>\n",
       "      <td>317</td>\n",
       "      <td>State University of New York (SUNY) at Fredonia</td>\n",
       "      <td>Northeastern</td>\n",
       "      <td>37800.0</td>\n",
       "      <td>66200.0</td>\n",
       "      <td>32800.0</td>\n",
       "      <td>44200.0</td>\n",
       "      <td>93300.0</td>\n",
       "      <td>181000.0</td>\n",
       "    </tr>\n",
       "    <tr>\n",
       "      <th>318</th>\n",
       "      <td>318</td>\n",
       "      <td>University of Southern Maine</td>\n",
       "      <td>Northeastern</td>\n",
       "      <td>39400.0</td>\n",
       "      <td>63600.0</td>\n",
       "      <td>40400.0</td>\n",
       "      <td>47900.0</td>\n",
       "      <td>85700.0</td>\n",
       "      <td>117000.0</td>\n",
       "    </tr>\n",
       "    <tr>\n",
       "      <th>319</th>\n",
       "      <td>319</td>\n",
       "      <td>Mercy College</td>\n",
       "      <td>Northeastern</td>\n",
       "      <td>43700.0</td>\n",
       "      <td>62600.0</td>\n",
       "      <td>35600.0</td>\n",
       "      <td>47300.0</td>\n",
       "      <td>99000.0</td>\n",
       "      <td>134000.0</td>\n",
       "    </tr>\n",
       "  </tbody>\n",
       "</table>\n",
       "<p>320 rows × 9 columns</p>\n",
       "</div>"
      ],
      "text/plain": [
       "     Index                                      School Name        Region  \\\n",
       "0        0                              Stanford University    California   \n",
       "1        1         California Institute of Technology (CIT)    California   \n",
       "2        2                              Harvey Mudd College    California   \n",
       "3        3               University of California, Berkeley    California   \n",
       "4        4                               Occidental College    California   \n",
       "..     ...                                              ...           ...   \n",
       "315    315   State University of New York (SUNY) at Potsdam  Northeastern   \n",
       "316    316                               Niagara University  Northeastern   \n",
       "317    317  State University of New York (SUNY) at Fredonia  Northeastern   \n",
       "318    318                     University of Southern Maine  Northeastern   \n",
       "319    319                                    Mercy College  Northeastern   \n",
       "\n",
       "     Starting Median Salary  Mid-Career Median Salary  \\\n",
       "0                   70400.0                  129000.0   \n",
       "1                   75500.0                  123000.0   \n",
       "2                   71800.0                  122000.0   \n",
       "3                   59900.0                  112000.0   \n",
       "4                   51900.0                  105000.0   \n",
       "..                      ...                       ...   \n",
       "315                 38000.0                   70300.0   \n",
       "316                 36900.0                   69700.0   \n",
       "317                 37800.0                   66200.0   \n",
       "318                 39400.0                   63600.0   \n",
       "319                 43700.0                   62600.0   \n",
       "\n",
       "     Mid-Career 10th Percentile Salary  Mid-Career 25th Percentile Salary  \\\n",
       "0                              68400.0                            93100.0   \n",
       "1                                  NaN                           104000.0   \n",
       "2                                  NaN                            96000.0   \n",
       "3                              59500.0                            81000.0   \n",
       "4                                  NaN                            54800.0   \n",
       "..                                 ...                                ...   \n",
       "315                            35100.0                            51200.0   \n",
       "316                            44000.0                            57000.0   \n",
       "317                            32800.0                            44200.0   \n",
       "318                            40400.0                            47900.0   \n",
       "319                            35600.0                            47300.0   \n",
       "\n",
       "     Mid-Career 75th Percentile Salary  Mid-Career 90th Percentile Salary  \n",
       "0                             184000.0                           257000.0  \n",
       "1                             161000.0                                NaN  \n",
       "2                             180000.0                                NaN  \n",
       "3                             149000.0                           201000.0  \n",
       "4                             157000.0                                NaN  \n",
       "..                                 ...                                ...  \n",
       "315                           100000.0                           179000.0  \n",
       "316                            92000.0                           128000.0  \n",
       "317                            93300.0                           181000.0  \n",
       "318                            85700.0                           117000.0  \n",
       "319                            99000.0                           134000.0  \n",
       "\n",
       "[320 rows x 9 columns]"
      ]
     },
     "execution_count": 13,
     "metadata": {},
     "output_type": "execute_result"
    }
   ],
   "source": [
    "region"
   ]
  },
  {
   "cell_type": "code",
   "execution_count": 18,
   "metadata": {},
   "outputs": [],
   "source": [
    "major.to_csv(\"degree.csv\")"
   ]
  },
  {
   "cell_type": "code",
   "execution_count": null,
   "metadata": {},
   "outputs": [],
   "source": []
  }
 ],
 "metadata": {
  "kernelspec": {
   "display_name": "Python 3",
   "language": "python",
   "name": "python3"
  },
  "language_info": {
   "codemirror_mode": {
    "name": "ipython",
    "version": 3
   },
   "file_extension": ".py",
   "mimetype": "text/x-python",
   "name": "python",
   "nbconvert_exporter": "python",
   "pygments_lexer": "ipython3",
   "version": "3.7.6"
  }
 },
 "nbformat": 4,
 "nbformat_minor": 4
}
